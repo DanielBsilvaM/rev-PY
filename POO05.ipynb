{
  "nbformat": 4,
  "nbformat_minor": 0,
  "metadata": {
    "colab": {
      "name": "POO05.ipynb",
      "provenance": [],
      "authorship_tag": "ABX9TyPOhh7gPTcsPt31v7MHFncI",
      "include_colab_link": true
    },
    "kernelspec": {
      "name": "python3",
      "display_name": "Python 3"
    },
    "language_info": {
      "name": "python"
    }
  },
  "cells": [
    {
      "cell_type": "markdown",
      "metadata": {
        "id": "view-in-github",
        "colab_type": "text"
      },
      "source": [
        "<a href=\"https://colab.research.google.com/github/DanielBsilvaM/rev-PY/blob/main/POO05.ipynb\" target=\"_parent\"><img src=\"https://colab.research.google.com/assets/colab-badge.svg\" alt=\"Open In Colab\"/></a>"
      ]
    },
    {
      "cell_type": "code",
      "metadata": {
        "colab": {
          "base_uri": "https://localhost:8080/"
        },
        "id": "V3mea179H7_l",
        "outputId": "95dd94c0-8efe-4b55-8e50-3e9449e689cc"
      },
      "source": [
        "class Usuario:\n",
        "  __primeiroNome = \"\"\n",
        "  __ultimoNome = \"\"\n",
        "\n",
        "  def setPrimeiroNome(self, nome):\n",
        "    self.__primeiroNome = nome\n",
        "  def getPrimeiroNome(self):\n",
        "    return \"José\" + self.__primeiroNome\n",
        "  def setUltimoNome(self, nome):\n",
        "    self.__primeiroNome = nome\n",
        "  def getUltimoNome(self):\n",
        "    return \"Bezerra\" + self.__ultimoNome\n",
        "  def getNomeCompleto(self):\n",
        "    return getPrimeiroNome + getUltimoNome + self.__ultimoNome\n",
        "\n",
        "usuario1 = Usuario()\n",
        "usuario1.setPrimeiroNome(\"José\")\n",
        "usuario1.setUltimoNome(\" Bezerra\")\n",
        "print(usuario1.getPrimeiroNome())"
      ],
      "execution_count": 23,
      "outputs": [
        {
          "output_type": "stream",
          "text": [
            "José Bezerra\n"
          ],
          "name": "stdout"
        }
      ]
    }
  ]
}