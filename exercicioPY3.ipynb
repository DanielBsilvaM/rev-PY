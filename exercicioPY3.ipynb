{
  "nbformat": 4,
  "nbformat_minor": 0,
  "metadata": {
    "colab": {
      "name": "exercicioPY3.ipynb",
      "provenance": [],
      "collapsed_sections": [],
      "authorship_tag": "ABX9TyMF1QvR34uixaW2eEVxWS7R",
      "include_colab_link": true
    },
    "kernelspec": {
      "name": "python3",
      "display_name": "Python 3"
    },
    "language_info": {
      "name": "python"
    }
  },
  "cells": [
    {
      "cell_type": "markdown",
      "metadata": {
        "id": "view-in-github",
        "colab_type": "text"
      },
      "source": [
        "<a href=\"https://colab.research.google.com/github/DanielBsilvaM/rev-PY/blob/main/exercicioPY3.ipynb\" target=\"_parent\"><img src=\"https://colab.research.google.com/assets/colab-badge.svg\" alt=\"Open In Colab\"/></a>"
      ]
    },
    {
      "cell_type": "code",
      "metadata": {
        "id": "DgognJ7n9Evc"
      },
      "source": [
        "#1 Diferença minima de 20\n",
        "def numeros_negativos_media(a,b):\n",
        "  if a > b:\n",
        "    a, b = b, a\n",
        "  if b - a < 20:\n",
        "    return \"Diferença minima de 20\"\n",
        "  negativos = []\n",
        "  soma = 0\n",
        "  cont = 0\n",
        "  for x in range(a, b):\n",
        "    cont += 1\n",
        "    soma += x\n",
        "    if x < 0:\n",
        "      negativos.append(x)\n",
        "  media = soma / cont \n",
        "  return media, negativos\n",
        "\n",
        "#2 Par ou Impar\n",
        "def par_ou_impar(a,b):\n",
        "  if a > b:\n",
        "    a, b = b, a\n",
        "  if b - a < 15:\n",
        "    return \"Diferença minima de 15\"\n",
        "  lista = []\n",
        "  for x in range(a, b):\n",
        "    if x % 2 == 0:\n",
        "      lista.append([x, \"é par\"])\n",
        "    else: \n",
        "      lista.append([x, \"é impar\"])\n",
        "  return lista\n",
        "\n",
        "#3 Maior e menor\n",
        "def maior_menor(a, b):\n",
        "  if b > a:\n",
        "    a, b = b, a\n",
        "  maiorn = 0\n",
        "  menorn = 0\n",
        "  for x in range(a,b):\n",
        "    if x <= 0:\n",
        "      break\n",
        "    if x > maiorn: \n",
        "      maiorn = x\n",
        "    if x < menorn:\n",
        "      menorn = x\n",
        "  return maiorn, menorn\n",
        "\n",
        "#4 Soma\n",
        "def soma_par_impar():\n",
        "  soma_par = 0\n",
        "  soma_impar = 0\n",
        "  for x in range(1, 101):\n",
        "    if x % 2 == 0:\n",
        "      soma_par += x\n",
        "    else: \n",
        "      soma_impar += x\n",
        "  return \"soma dos pares é: \", soma_par, \"soma dos impares é: \", soma_impar\n",
        "soma_par_impar()\n",
        "\n",
        "#5 Alturas media\n",
        "def alturas_media(lista_com_alturas):\n",
        "  if len(lista_com_alturas) < 20:\n",
        "    return \"tamanho minimo 20\"\n",
        "  soma = sum(lista_com_alturas)\n",
        "  return soma / len(lista_com_alturas)\n",
        "\n",
        "#6 Negativos\n",
        "def qnt_negativos(n):\n",
        "  #vou pensar que se trata de uma lista de numeros\n",
        "  count = 0\n",
        "  for x in n:\n",
        "    if x < 0:\n",
        "      count += 1\n",
        "  return count\n",
        "\n",
        "#7 Perca de massa\n",
        "def perde_massa(massa):\n",
        "  segundos = 0\n",
        "  massa_atual = massa\n",
        "  while massa_atual > 0.5:\n",
        "    segundos += 50\n",
        "    massa_atual = massa_atual / 2\n",
        "  return massa, massa_atual, segundos\n",
        "  perde_massa(2)"
      ],
      "execution_count": null,
      "outputs": []
    }
  ]
}