{
  "nbformat": 4,
  "nbformat_minor": 0,
  "metadata": {
    "colab": {
      "name": "exercicioPY.ipynb",
      "provenance": [],
      "authorship_tag": "ABX9TyMnC2lvyjlRKT86nv5k8NVe",
      "include_colab_link": true
    },
    "kernelspec": {
      "name": "python3",
      "display_name": "Python 3"
    },
    "language_info": {
      "name": "python"
    }
  },
  "cells": [
    {
      "cell_type": "markdown",
      "metadata": {
        "id": "view-in-github",
        "colab_type": "text"
      },
      "source": [
        "<a href=\"https://colab.research.google.com/github/DanielBsilvaM/rev-PY/blob/main/exercicioPY5.ipynb\" target=\"_parent\"><img src=\"https://colab.research.google.com/assets/colab-badge.svg\" alt=\"Open In Colab\"/></a>"
      ]
    },
    {
      "cell_type": "code",
      "metadata": {
        "colab": {
          "base_uri": "https://localhost:8080/"
        },
        "id": "F-ynZ8-x8QOu",
        "outputId": "fe7318cd-0fe8-4651-f784-bbd3dd5cb3b9"
      },
      "source": [
        "#1\n",
        "#Função Principal\n",
        "def f_fahrenheit(F):\n",
        "  C = (F-32) * 5/9\n",
        "  return C\n",
        "\n",
        "#Teste Função\n",
        "f_fahrenheit(255)"
      ],
      "execution_count": 1,
      "outputs": [
        {
          "output_type": "execute_result",
          "data": {
            "text/plain": [
              "123.88888888888889"
            ]
          },
          "metadata": {
            "tags": []
          },
          "execution_count": 1
        }
      ]
    },
    {
      "cell_type": "code",
      "metadata": {
        "id": "Kuh8Z7dZ8jlP"
      },
      "source": [
        "#2\n",
        "def hipotenusa(a, b):\n",
        "  h = ((a**2) + (b**2)) ** 0.5\n",
        "  return h\n",
        "\n",
        "#Teste Função\n",
        "hipotenusa(52, 44)\n",
        "\n"
      ],
      "execution_count": null,
      "outputs": []
    },
    {
      "cell_type": "code",
      "metadata": {
        "id": "a5WAaY1U8vxL"
      },
      "source": [
        "#3\n",
        "def aprovacao(nota_1, nota_2):\n",
        "  if (nota_1 + nota_2) / 2 >= 6:\n",
        "    print(\"PARABÉNS! VOCÊ FOI APROVADO\")\n",
        "  else:\n",
        "    print(\"ESTUDE MAIS!!\")\n",
        "\n",
        "#Teste Função\n",
        "aprovacao(7, 5)"
      ],
      "execution_count": null,
      "outputs": []
    },
    {
      "cell_type": "code",
      "metadata": {
        "id": "G96imoZp8yw7"
      },
      "source": [
        ""
      ],
      "execution_count": null,
      "outputs": []
    },
    {
      "cell_type": "code",
      "metadata": {
        "id": "it3fYxzB-4fB"
      },
      "source": [
        "#9\n",
        "def divisivel(x, y):\n",
        "  if (x % y == 0):\n",
        "    return 1\n",
        "  else:\n",
        "    return 0\n",
        "\n",
        "#Teste Função\n",
        "divisivel(10, 10)"
      ],
      "execution_count": null,
      "outputs": []
    },
    {
      "cell_type": "code",
      "metadata": {
        "id": "ReDeUvLa--Jt"
      },
      "source": [
        "#10\n",
        "def maior_que(a, b):\n",
        "  if a > b:\n",
        "    return a\n",
        "  else:\n",
        "    return b\n",
        "\n",
        "#Teste Função\n",
        "maior_que(2, 3)\n",
        "#maior_que(7, 4)"
      ],
      "execution_count": null,
      "outputs": []
    },
    {
      "cell_type": "code",
      "metadata": {
        "id": "EspwtrVd-_BS"
      },
      "source": [
        "#11\n",
        "def pol_cm(pol):\n",
        "  cm = pol * 2.54\n",
        "  return cm\n",
        "\n",
        "#Teste Função\n",
        "pol_cm(55)"
      ],
      "execution_count": null,
      "outputs": []
    }
  ]
}
