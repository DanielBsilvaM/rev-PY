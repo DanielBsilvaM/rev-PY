{
  "nbformat": 4,
  "nbformat_minor": 0,
  "metadata": {
    "colab": {
      "name": "POO_PRG2_04.ipynb",
      "provenance": [],
      "authorship_tag": "ABX9TyMdysz22nOdsn9NraIVIM6C",
      "include_colab_link": true
    },
    "kernelspec": {
      "name": "python3",
      "display_name": "Python 3"
    },
    "language_info": {
      "name": "python"
    }
  },
  "cells": [
    {
      "cell_type": "markdown",
      "metadata": {
        "id": "view-in-github",
        "colab_type": "text"
      },
      "source": [
        "<a href=\"https://colab.research.google.com/github/DanielBsilvaM/rev-PY/blob/main/POO_PRG2_04.ipynb\" target=\"_parent\"><img src=\"https://colab.research.google.com/assets/colab-badge.svg\" alt=\"Open In Colab\"/></a>"
      ]
    },
    {
      "cell_type": "code",
      "metadata": {
        "colab": {
          "base_uri": "https://localhost:8080/"
        },
        "id": "x31_niNArp4H",
        "outputId": "656dfd58-e23d-4e17-b732-f16b3f5a389f"
      },
      "source": [
        "class Usuario:\n",
        "  __primeiroNome = \"\"\n",
        "\n",
        "  def setNome(self, primeiroNome):\n",
        "    self.__primeiroNome = primeiroNome \n",
        "\n",
        "  def getNome(self):\n",
        "     return self.__primeiroNome\n",
        "\n",
        "usuario1 = Usuario()\n",
        "usuario1.setNome(\"Joe\")\n",
        "print(usuario1.getNome())\n"
      ],
      "execution_count": 8,
      "outputs": [
        {
          "output_type": "stream",
          "text": [
            "Joe\n"
          ],
          "name": "stdout"
        }
      ]
    }
  ]
}