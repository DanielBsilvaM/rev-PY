{
  "nbformat": 4,
  "nbformat_minor": 0,
  "metadata": {
    "colab": {
      "name": "exercicioPY4.ipynb",
      "provenance": [],
      "authorship_tag": "ABX9TyOrSvaX/iFbkSDR3aZCU6Oc",
      "include_colab_link": true
    },
    "kernelspec": {
      "name": "python3",
      "display_name": "Python 3"
    },
    "language_info": {
      "name": "python"
    }
  },
  "cells": [
    {
      "cell_type": "markdown",
      "metadata": {
        "id": "view-in-github",
        "colab_type": "text"
      },
      "source": [
        "<a href=\"https://colab.research.google.com/github/DanielBsilvaM/rev-PY/blob/main/exercicioPY4.ipynb\" target=\"_parent\"><img src=\"https://colab.research.google.com/assets/colab-badge.svg\" alt=\"Open In Colab\"/></a>"
      ]
    },
    {
      "cell_type": "code",
      "metadata": {
        "id": "a-qPJ0Aufr9G"
      },
      "source": [
        "#1 Range\n",
        "\n",
        "def rangeDoZero(a,b):\n",
        "  return list(range(a, b))"
      ],
      "execution_count": 3,
      "outputs": []
    },
    {
      "cell_type": "code",
      "metadata": {
        "id": "xJfEI3J4f4ol"
      },
      "source": [
        "#2 Notas\n",
        "\n",
        "def notas():\n",
        "  import random\n",
        "  lista_notas = []\n",
        "  for x in range(0,11):\n",
        "    x = random.randint(0,10)\n",
        "    lista_notas.append(x)\n",
        "  return sum(lista_notas) / len(lista_notas)\n",
        "\n",
        "\n"
      ],
      "execution_count": null,
      "outputs": []
    },
    {
      "cell_type": "code",
      "metadata": {
        "id": "YwS13ujrf6HF"
      },
      "source": [
        "#3 Acima da média\n",
        "\n",
        "def acima_da_media():\n",
        "  import random\n",
        "  lista_notas = []\n",
        "  for x in range(0,11):\n",
        "    x = random.randint(0,10)\n",
        "    lista_notas.append(x)\n",
        "  media = sum(lista_notas) / len(lista_notas)\n",
        "  notas_acima = []\n",
        "  for x in lista_notas:\n",
        "    if x > media:\n",
        "      notas_acima.append(x)\n",
        "  return len(notas_acima), \"nota/notas são acima da media\"\n",
        "\n"
      ],
      "execution_count": null,
      "outputs": []
    },
    {
      "cell_type": "code",
      "metadata": {
        "id": "fDfL_FZgf9rh"
      },
      "source": [
        "#4 Notas Alunos\n",
        "\n",
        "def trinta_alunos():\n",
        "  import random\n",
        "  lista_notas = []\n",
        "  for x in range(0,11):\n",
        "    x = random.randint(0,10)\n",
        "    if x >= 7:\n",
        "      lista_notas.append(x)\n",
        "  return len(lista_notas), \"nota/notas são acima da media\"\n",
        "\n"
      ],
      "execution_count": null,
      "outputs": []
    },
    {
      "cell_type": "code",
      "metadata": {
        "id": "rVx4_LUbf_Pf"
      },
      "source": [
        "#5 Encontrar Elemento \n",
        "\n",
        "def encontrar_trinta():\n",
        "  import random\n",
        "  my_list = []\n",
        "  for x in range(0,101):\n",
        "    x = random.randint(25,35)\n",
        "    my_list.append(x)\n",
        "  indices = [i for i, x in enumerate(my_list) if x == 30]\n",
        "  return indices\n",
        "trinta_alunos()"
      ],
      "execution_count": null,
      "outputs": []
    }
  ]
}