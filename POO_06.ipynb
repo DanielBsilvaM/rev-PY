{
  "nbformat": 4,
  "nbformat_minor": 0,
  "metadata": {
    "colab": {
      "name": "POO-06.ipynb",
      "provenance": [],
      "authorship_tag": "ABX9TyMDKboceCJE5UPsbWMUL4C7",
      "include_colab_link": true
    },
    "kernelspec": {
      "name": "python3",
      "display_name": "Python 3"
    },
    "language_info": {
      "name": "python"
    }
  },
  "cells": [
    {
      "cell_type": "markdown",
      "metadata": {
        "id": "view-in-github",
        "colab_type": "text"
      },
      "source": [
        "<a href=\"https://colab.research.google.com/github/DanielBsilvaM/rev-PY/blob/main/POO_06.ipynb\" target=\"_parent\"><img src=\"https://colab.research.google.com/assets/colab-badge.svg\" alt=\"Open In Colab\"/></a>"
      ]
    },
    {
      "cell_type": "code",
      "metadata": {
        "colab": {
          "base_uri": "https://localhost:8080/"
        },
        "id": "aD5V4Dlyk3R7",
        "outputId": "03e2d436-b21b-4c9c-a805-de4d7c9d21b5"
      },
      "source": [
        "#1\n",
        "class Usuario():\n",
        "  #2\n",
        "  _nomeUsuario = \"\"\n",
        "  #3\n",
        "  def setNomeUsuario(self, nomeUsuario):\n",
        "    self._nomeUsuario = nomeUsuario\n",
        "  #10\n",
        "  def getNomeUsuario(self):\n",
        "    return self._nomeUsuario\n",
        "#4  \n",
        "class Admin(Usuario):\n",
        "  #5\n",
        "  def escreveNome(self):\n",
        "    return \"Admin \"\n",
        "  #6\n",
        "  def digaOla(self):\n",
        "    return \"Olá Admin, \" + self.getNomeUsuario()\n",
        "#7\n",
        "admin1 = Admin()\n",
        "admin1.setNomeUsuario(\"Shazam\")\n",
        "print(admin1.digaOla())"
      ],
      "execution_count": 1,
      "outputs": [
        {
          "output_type": "stream",
          "text": [
            "Olá Admin, Shazam\n"
          ],
          "name": "stdout"
        }
      ]
    }
  ]
}