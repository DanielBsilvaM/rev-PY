{
  "nbformat": 4,
  "nbformat_minor": 0,
  "metadata": {
    "colab": {
      "name": "POO_PRG2_03.ipynb",
      "provenance": [],
      "authorship_tag": "ABX9TyMmaG6CxioFsWQmnhOxkYdB",
      "include_colab_link": true
    },
    "kernelspec": {
      "name": "python3",
      "display_name": "Python 3"
    },
    "language_info": {
      "name": "python"
    }
  },
  "cells": [
    {
      "cell_type": "markdown",
      "metadata": {
        "id": "view-in-github",
        "colab_type": "text"
      },
      "source": [
        "<a href=\"https://colab.research.google.com/github/DanielBsilvaM/rev-PY/blob/main/POO_PRG2_03.ipynb\" target=\"_parent\"><img src=\"https://colab.research.google.com/assets/colab-badge.svg\" alt=\"Open In Colab\"/></a>"
      ]
    },
    {
      "cell_type": "code",
      "metadata": {
        "colab": {
          "base_uri": "https://localhost:8080/"
        },
        "id": "kv64O6zPzHBU",
        "outputId": "f18d207c-3c3c-40cd-8175-577addc4ac8c"
      },
      "source": [
        "class Usuario:\n",
        "# Propriedade  \n",
        "  primeiroNome = \" \"\n",
        "# Metodo que diz Olá ao usuario primeiroNome.\n",
        "  def hello(self):\n",
        "    print(\"Olá \", self.primeiroNome)\n",
        "    return self\n",
        "\n",
        "  def registrar(self):\n",
        "    print(\">> Registrado\")\n",
        "    return self\n",
        "\n",
        "  def mail(self):\n",
        "    print(\">> E-mail enviado\")\n",
        "    return self\n",
        "\n",
        "usuario1 = Usuario()\n",
        "usuario1.primeiroNome = \"Jane\"\n",
        "\n",
        "primeiroNome = usuario1.hello().registrar().mail()"
      ],
      "execution_count": 3,
      "outputs": [
        {
          "output_type": "stream",
          "text": [
            "Olá  Jane\n",
            ">> Registrado\n",
            ">> E-mail enviado\n"
          ],
          "name": "stdout"
        }
      ]
    }
  ]
}