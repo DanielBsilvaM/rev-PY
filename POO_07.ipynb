{
  "nbformat": 4,
  "nbformat_minor": 0,
  "metadata": {
    "colab": {
      "name": "POO-07.ipynb",
      "provenance": [],
      "authorship_tag": "ABX9TyOXfmgVMHPRAKsv81H6jksU",
      "include_colab_link": true
    },
    "kernelspec": {
      "name": "python3",
      "display_name": "Python 3"
    },
    "language_info": {
      "name": "python"
    }
  },
  "cells": [
    {
      "cell_type": "markdown",
      "metadata": {
        "id": "view-in-github",
        "colab_type": "text"
      },
      "source": [
        "<a href=\"https://colab.research.google.com/github/DanielBsilvaM/rev-PY/blob/main/POO_07.ipynb\" target=\"_parent\"><img src=\"https://colab.research.google.com/assets/colab-badge.svg\" alt=\"Open In Colab\"/></a>"
      ]
    },
    {
      "cell_type": "code",
      "metadata": {
        "colab": {
          "base_uri": "https://localhost:8080/"
        },
        "id": "tiQr43Y8ocjg",
        "outputId": "7f1d3ce9-80f0-4377-a7f1-7e9f3328fca7"
      },
      "source": [
        "#1\n",
        "class Usuario():\n",
        "  pontos = 0\n",
        "  numeroDeArtigos = 0\n",
        "\n",
        "  def setNumeroDeArtigos(self, nart):\n",
        "    self.numeroDeArtigos = nart\n",
        "\n",
        "  def getNumeroDeArtigos(self):\n",
        "    return self.numeroDeArtigos\n",
        "#2\n",
        "  def calcPontuacao(self):\n",
        "    pass\n",
        "#3\n",
        "class Autor(Usuario):\n",
        "  \n",
        "  def calcPontuacao(self):\n",
        "    self.pontos = self.numeroDeArtigos * 10 + 20\n",
        "    return self.pontos\n",
        "#4\n",
        "class Editor(Usuario):\n",
        "\n",
        "  def calcPontuacao(self):\n",
        "    self.pontos = self.numeroDeArtigos * 6 + 15\n",
        "    return self.pontos\n",
        "#5\n",
        "autor1 = Autor()\n",
        "autor1.setNumeroDeArtigos(8)\n",
        "\n",
        "print(autor1.calcPontuacao())\n",
        "#6\n",
        "editor1 = Editor()\n",
        "editor1.setNumeroDeArtigos(15)\n",
        "\n",
        "print(editor1.calcPontuacao())"
      ],
      "execution_count": 1,
      "outputs": [
        {
          "output_type": "stream",
          "text": [
            "100\n",
            "105\n"
          ],
          "name": "stdout"
        }
      ]
    }
  ]
}